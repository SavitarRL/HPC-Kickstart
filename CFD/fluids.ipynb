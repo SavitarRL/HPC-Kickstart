{
 "cells": [
  {
   "cell_type": "markdown",
   "metadata": {},
   "source": [
    "finite\tdifference\tapproach to\tdetermine the flow pattern\t\n",
    "of a fluid in a cavity in 2D\n",
    "\n",
    "- one inlet, one outlet\n",
    "- equations using finite difference\n",
    "$$ \\nabla^2 \\Psi = \\frac{\\partial^2 \\Psi}{\\partial x^2} + \\frac{\\partial^2 \\Psi}{\\partial y^2} = 0 \\ $$\n",
    "$$ \\Psi_{i+1,j} + \\Psi_{i-1,j} + \\Psi_{i,j+1} + \\Psi_{i,j-1} - 4\\Psi_{i,j} = 0\n",
    " $$\n",
    "\n",
    " - velocity fields $\\underline{u}$\n",
    " $$  u_x = \\frac{\\partial\\Psi}{\\partial y} = \\frac{1}{2}(\\Psi_{i,j+1} - \\Psi_{i,j-1})$$\n",
    "\n",
    "  $$  u_y = \\frac{\\partial\\Psi}{\\partial x} = \\frac{1}{2}(\\Psi_{i+1,j} - \\Psi_{i-1,j})$$\n",
    "\n",
    "- assuming no viscosity\n"
   ]
  },
  {
   "cell_type": "code",
   "execution_count": 1,
   "metadata": {},
   "outputs": [
    {
     "name": "stdout",
     "output_type": "stream",
     "text": [
      "Simulation start\n",
      "\n",
      "\n",
      "Calculation took 1.92460s\n",
      "\n",
      "Data writing complete\n",
      "Figure saved\n"
     ]
    }
   ],
   "source": [
    "from system_class import FluidPorts, Box\n",
    "from simulation_class import Simulate, Visualise\n",
    "\n",
    "# Instantiate FluidPorts\n",
    "fluid_ports = FluidPorts(inlet_location = 40, oulet_location = 100 , port_width = 50)\n",
    "\n",
    "# Instantiate Box\n",
    "box = Box(length= 250, width=250, fluidport_instance=fluid_ports)\n",
    "\n",
    "# Instantiate Simulate\n",
    "simulation = Simulate(num_iter=5000, psi=box.psi)\n",
    "\n",
    "# Simulate fluid flow\n",
    "simulation.simulate(psi=box.psi, filename=\"jacobi_flow.dat\", scaling = 0.1)\n",
    "\n",
    "# Instantiate Visualise\n",
    "visualization = Visualise(file_path=r\".\\\\datafiles\\\\jacobi_flow.dat\")\n",
    "\n",
    "# Visualize fluid flow and save the plot\n",
    "visualization.draw_flow(savefig_name=\"jacobi_flow.png\", colorbar=True)"
   ]
  },
  {
   "cell_type": "code",
   "execution_count": null,
   "metadata": {},
   "outputs": [],
   "source": []
  }
 ],
 "metadata": {
  "kernelspec": {
   "display_name": "Python 3",
   "language": "python",
   "name": "python3"
  },
  "language_info": {
   "codemirror_mode": {
    "name": "ipython",
    "version": 3
   },
   "file_extension": ".py",
   "mimetype": "text/x-python",
   "name": "python",
   "nbconvert_exporter": "python",
   "pygments_lexer": "ipython3",
   "version": "3.9.6"
  }
 },
 "nbformat": 4,
 "nbformat_minor": 2
}
